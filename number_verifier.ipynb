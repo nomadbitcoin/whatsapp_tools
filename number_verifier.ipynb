{
 "cells": [
  {
   "cell_type": "markdown",
   "metadata": {},
   "source": [
    "# Verifica se os números possuem whatsapp"
   ]
  },
  {
   "cell_type": "code",
   "execution_count": 1,
   "metadata": {},
   "outputs": [],
   "source": [
    "from browser import controlBrowser, verifyNumbers"
   ]
  },
  {
   "cell_type": "code",
   "execution_count": 2,
   "metadata": {},
   "outputs": [],
   "source": [
    "browser = controlBrowser()"
   ]
  },
  {
   "cell_type": "code",
   "execution_count": 3,
   "metadata": {},
   "outputs": [
    {
     "data": {
      "text/plain": [
       "(True, 'opened in: https://web.whatsapp.com/')"
      ]
     },
     "execution_count": 3,
     "metadata": {},
     "output_type": "execute_result"
    }
   ],
   "source": [
    "browser.openNewBrowser()"
   ]
  },
  {
   "cell_type": "code",
   "execution_count": 4,
   "metadata": {},
   "outputs": [],
   "source": [
    "verifier = verifyNumbers(browser.driver)"
   ]
  },
  {
   "cell_type": "code",
   "execution_count": 5,
   "metadata": {},
   "outputs": [
    {
     "name": "stdout",
     "output_type": "stream",
     "text": [
      "verified 65 contacts with whatsapp\n"
     ]
    },
    {
     "data": {
      "text/plain": [
       "['Andre Secolino',\n",
       " 'Marco Aurélio Prancha',\n",
       " 'Angelita Mae Nycolas',\n",
       " 'Nathani',\n",
       " 'Jair Blablacar',\n",
       " 'Fidelix',\n",
       " 'Murilo Chapula',\n",
       " 'Duchester Xarope',\n",
       " 'Helen',\n",
       " 'Marcelo Correia',\n",
       " 'Pai da Bela Flor',\n",
       " 'Anna Bida alto paraiso de uberlandia minas gerais',\n",
       " 'Nabike Itapema',\n",
       " 'Jordan',\n",
       " 'Josoe San Blablacar',\n",
       " 'Vo Ju',\n",
       " 'Maria Prima',\n",
       " '33 Sushi House',\n",
       " 'Espaço Paula Vedana',\n",
       " 'Cueca Rodrigo Santana',\n",
       " 'Gabriela existe',\n",
       " 'Mae',\n",
       " 'Tia Ale',\n",
       " 'Tio Cristiano',\n",
       " 'Bot BHS',\n",
       " 'Tia Ale 2',\n",
       " 'Anderson Blablacar',\n",
       " 'Carmen Mae Gui',\n",
       " 'Dani Gui',\n",
       " 'Daniel Saulo Bitcoins',\n",
       " 'Fabio Lopes',\n",
       " 'Gabriel Zatorski',\n",
       " 'Gui Kussler',\n",
       " 'Regis Greenlions',\n",
       " 'Nycolas Machado',\n",
       " 'Phil felipe alto paraiso de sao paulo',\n",
       " 'Marilei Bla Bla Car',\n",
       " 'Élcio',\n",
       " 'Gaby Carneiro',\n",
       " 'Ana Massai',\n",
       " 'Alessandra',\n",
       " 'Papelaria Mais Amor',\n",
       " 'Nishavida rancho oasis de luz abadiania (worldpackers)',\n",
       " 'Diogo BHS',\n",
       " 'Greenlions',\n",
       " 'Helton Blablacar',\n",
       " 'Aline Revista Exame',\n",
       " 'Dumbo',\n",
       " 'Rodrigo Sushi Man',\n",
       " 'Gabriel Ferraz',\n",
       " 'Thay Benites',\n",
       " 'Vini Machado',\n",
       " 'Lari Lara',\n",
       " 'Eduardo Lopes',\n",
       " 'Jhoe',\n",
       " 'Tio Fer',\n",
       " 'mestre Wagner',\n",
       " 'Andrew Brasil Advocacia Balneario',\n",
       " 'Mano Julio',\n",
       " 'Marcos Advocacia Brava',\n",
       " 'Cris Primo',\n",
       " 'Liziane Avon',\n",
       " 'Thais Matos Ilkiu',\n",
       " 'Chalé Tainha',\n",
       " 'Júnior Fusca Helen Fuskelen']"
      ]
     },
     "execution_count": 5,
     "metadata": {},
     "output_type": "execute_result"
    }
   ],
   "source": [
    "verifier()"
   ]
  },
  {
   "cell_type": "code",
   "execution_count": null,
   "metadata": {},
   "outputs": [],
   "source": []
  },
  {
   "cell_type": "code",
   "execution_count": null,
   "metadata": {},
   "outputs": [],
   "source": []
  },
  {
   "cell_type": "code",
   "execution_count": null,
   "metadata": {},
   "outputs": [],
   "source": []
  },
  {
   "cell_type": "code",
   "execution_count": null,
   "metadata": {},
   "outputs": [],
   "source": []
  },
  {
   "cell_type": "code",
   "execution_count": null,
   "metadata": {},
   "outputs": [],
   "source": []
  },
  {
   "cell_type": "code",
   "execution_count": null,
   "metadata": {},
   "outputs": [],
   "source": []
  },
  {
   "cell_type": "code",
   "execution_count": null,
   "metadata": {},
   "outputs": [],
   "source": []
  },
  {
   "cell_type": "code",
   "execution_count": null,
   "metadata": {},
   "outputs": [],
   "source": []
  },
  {
   "cell_type": "code",
   "execution_count": null,
   "metadata": {},
   "outputs": [],
   "source": []
  },
  {
   "cell_type": "code",
   "execution_count": null,
   "metadata": {},
   "outputs": [],
   "source": []
  },
  {
   "cell_type": "code",
   "execution_count": null,
   "metadata": {},
   "outputs": [],
   "source": []
  },
  {
   "cell_type": "code",
   "execution_count": null,
   "metadata": {},
   "outputs": [],
   "source": []
  },
  {
   "cell_type": "code",
   "execution_count": null,
   "metadata": {},
   "outputs": [],
   "source": []
  },
  {
   "cell_type": "code",
   "execution_count": null,
   "metadata": {},
   "outputs": [],
   "source": []
  },
  {
   "cell_type": "code",
   "execution_count": 6,
   "metadata": {},
   "outputs": [],
   "source": [
    "# ISSO SERVER APENAS PARA TRABALHAR AQUI O JUPYTER SEM TER QUE FICAR RE-INSTANCIANDO A CADA ALTERACAO\n",
    "driver = browser.driver"
   ]
  },
  {
   "cell_type": "code",
   "execution_count": 7,
   "metadata": {},
   "outputs": [],
   "source": [
    "from selenium.webdriver.common.keys import Keys\n",
    "from selenium.webdriver.common.action_chains import ActionChains"
   ]
  },
  {
   "cell_type": "code",
   "execution_count": 8,
   "metadata": {},
   "outputs": [],
   "source": [
    "import time"
   ]
  }
 ],
 "metadata": {
  "kernelspec": {
   "display_name": "Python 3",
   "language": "python",
   "name": "python3"
  },
  "language_info": {
   "codemirror_mode": {
    "name": "ipython",
    "version": 3
   },
   "file_extension": ".py",
   "mimetype": "text/x-python",
   "name": "python",
   "nbconvert_exporter": "python",
   "pygments_lexer": "ipython3",
   "version": "3.5.3"
  }
 },
 "nbformat": 4,
 "nbformat_minor": 2
}
